{
  "nbformat": 4,
  "nbformat_minor": 0,
  "metadata": {
    "colab": {
      "name": "morpho.ipynb",
      "version": "0.3.2",
      "provenance": [],
      "collapsed_sections": []
    },
    "language_info": {
      "codemirror_mode": {
        "name": "ipython",
        "version": 3
      },
      "file_extension": ".py",
      "mimetype": "text/x-python",
      "name": "python",
      "nbconvert_exporter": "python",
      "pygments_lexer": "ipython3",
      "version": "3.6.3"
    },
    "kernelspec": {
      "display_name": "Python 3",
      "language": "python",
      "name": "python3"
    },
    "accelerator": "GPU"
  },
  "cells": [
    {
      "cell_type": "code",
      "metadata": {
        "colab_type": "code",
        "id": "QJSOrmGM80vJ",
        "outputId": "44acd868-1f6c-4757-849e-ced6fa4f4550",
        "colab": {
          "base_uri": "https://localhost:8080/",
          "height": 272
        }
      },
      "source": [
        "!wget http://www.cis.uni-muenchen.de/~schmid/tools/TreeTagger/data/tree-tagger-linux-3.2.2.tar.gz"
      ],
      "execution_count": 22,
      "outputs": [
        {
          "output_type": "stream",
          "text": [
            "--2019-06-09 18:47:12--  http://www.cis.uni-muenchen.de/~schmid/tools/TreeTagger/data/tree-tagger-linux-3.2.2.tar.gz\n",
            "Resolving www.cis.uni-muenchen.de (www.cis.uni-muenchen.de)... 129.187.148.72, 2001:4ca0:4f01::5\n",
            "Connecting to www.cis.uni-muenchen.de (www.cis.uni-muenchen.de)|129.187.148.72|:80... connected.\n",
            "HTTP request sent, awaiting response... 302 Found\n",
            "Location: https://www.cis.uni-muenchen.de/~schmid/tools/TreeTagger/data/tree-tagger-linux-3.2.2.tar.gz [following]\n",
            "--2019-06-09 18:47:12--  https://www.cis.uni-muenchen.de/~schmid/tools/TreeTagger/data/tree-tagger-linux-3.2.2.tar.gz\n",
            "Connecting to www.cis.uni-muenchen.de (www.cis.uni-muenchen.de)|129.187.148.72|:443... connected.\n",
            "HTTP request sent, awaiting response... 200 OK\n",
            "Length: 1821366 (1.7M) [application/x-gzip]\n",
            "Saving to: ‘tree-tagger-linux-3.2.2.tar.gz.4’\n",
            "\n",
            "tree-tagger-linux-3 100%[===================>]   1.74M  1.90MB/s    in 0.9s    \n",
            "\n",
            "2019-06-09 18:47:14 (1.90 MB/s) - ‘tree-tagger-linux-3.2.2.tar.gz.4’ saved [1821366/1821366]\n",
            "\n"
          ],
          "name": "stdout"
        }
      ]
    },
    {
      "cell_type": "code",
      "metadata": {
        "colab_type": "code",
        "id": "uAH8K4T_5z8o",
        "outputId": "5720c196-368d-4fe9-f407-74920d5150f0",
        "colab": {
          "base_uri": "https://localhost:8080/",
          "height": 272
        }
      },
      "source": [
        "!wget http://www.cis.uni-muenchen.de/~schmid/tools/TreeTagger/data/tagger-scripts.tar.gz"
      ],
      "execution_count": 23,
      "outputs": [
        {
          "output_type": "stream",
          "text": [
            "--2019-06-09 18:47:42--  http://www.cis.uni-muenchen.de/~schmid/tools/TreeTagger/data/tagger-scripts.tar.gz\n",
            "Resolving www.cis.uni-muenchen.de (www.cis.uni-muenchen.de)... 129.187.148.72, 2001:4ca0:4f01::5\n",
            "Connecting to www.cis.uni-muenchen.de (www.cis.uni-muenchen.de)|129.187.148.72|:80... connected.\n",
            "HTTP request sent, awaiting response... 302 Found\n",
            "Location: https://www.cis.uni-muenchen.de/~schmid/tools/TreeTagger/data/tagger-scripts.tar.gz [following]\n",
            "--2019-06-09 18:47:42--  https://www.cis.uni-muenchen.de/~schmid/tools/TreeTagger/data/tagger-scripts.tar.gz\n",
            "Connecting to www.cis.uni-muenchen.de (www.cis.uni-muenchen.de)|129.187.148.72|:443... connected.\n",
            "HTTP request sent, awaiting response... 200 OK\n",
            "Length: 101810 (99K) [application/x-gzip]\n",
            "Saving to: ‘tagger-scripts.tar.gz.3’\n",
            "\n",
            "tagger-scripts.tar. 100%[===================>]  99.42K   329KB/s    in 0.3s    \n",
            "\n",
            "2019-06-09 18:47:43 (329 KB/s) - ‘tagger-scripts.tar.gz.3’ saved [101810/101810]\n",
            "\n"
          ],
          "name": "stdout"
        }
      ]
    },
    {
      "cell_type": "code",
      "metadata": {
        "colab_type": "code",
        "id": "8SJ8rbYf5z-e",
        "outputId": "1bd44b17-2ce3-44ff-810e-f44c79454010",
        "colab": {
          "base_uri": "https://localhost:8080/",
          "height": 272
        }
      },
      "source": [
        "!wget http://www.cis.uni-muenchen.de/~schmid/tools/TreeTagger/data/install-tagger.sh"
      ],
      "execution_count": 24,
      "outputs": [
        {
          "output_type": "stream",
          "text": [
            "--2019-06-09 18:47:48--  http://www.cis.uni-muenchen.de/~schmid/tools/TreeTagger/data/install-tagger.sh\n",
            "Resolving www.cis.uni-muenchen.de (www.cis.uni-muenchen.de)... 129.187.148.72, 2001:4ca0:4f01::5\n",
            "Connecting to www.cis.uni-muenchen.de (www.cis.uni-muenchen.de)|129.187.148.72|:80... connected.\n",
            "HTTP request sent, awaiting response... 302 Found\n",
            "Location: https://www.cis.uni-muenchen.de/~schmid/tools/TreeTagger/data/install-tagger.sh [following]\n",
            "--2019-06-09 18:47:48--  https://www.cis.uni-muenchen.de/~schmid/tools/TreeTagger/data/install-tagger.sh\n",
            "Connecting to www.cis.uni-muenchen.de (www.cis.uni-muenchen.de)|129.187.148.72|:443... connected.\n",
            "HTTP request sent, awaiting response... 200 OK\n",
            "Length: 12409 (12K) [application/x-shellscript]\n",
            "Saving to: ‘install-tagger.sh.2’\n",
            "\n",
            "install-tagger.sh.2 100%[===================>]  12.12K  --.-KB/s    in 0s      \n",
            "\n",
            "2019-06-09 18:47:49 (215 MB/s) - ‘install-tagger.sh.2’ saved [12409/12409]\n",
            "\n"
          ],
          "name": "stdout"
        }
      ]
    },
    {
      "cell_type": "code",
      "metadata": {
        "colab_type": "code",
        "id": "n__NxBzk50DC",
        "outputId": "eef027c9-1439-499d-f00a-0294c0a954a3",
        "colab": {
          "base_uri": "https://localhost:8080/",
          "height": 272
        }
      },
      "source": [
        "!wget http://www.cis.uni-muenchen.de/~schmid/tools/TreeTagger/data/russian.par.gz"
      ],
      "execution_count": 25,
      "outputs": [
        {
          "output_type": "stream",
          "text": [
            "--2019-06-09 18:48:12--  http://www.cis.uni-muenchen.de/~schmid/tools/TreeTagger/data/russian.par.gz\n",
            "Resolving www.cis.uni-muenchen.de (www.cis.uni-muenchen.de)... 129.187.148.72, 2001:4ca0:4f01::5\n",
            "Connecting to www.cis.uni-muenchen.de (www.cis.uni-muenchen.de)|129.187.148.72|:80... connected.\n",
            "HTTP request sent, awaiting response... 302 Found\n",
            "Location: https://www.cis.uni-muenchen.de/~schmid/tools/TreeTagger/data/russian.par.gz [following]\n",
            "--2019-06-09 18:48:12--  https://www.cis.uni-muenchen.de/~schmid/tools/TreeTagger/data/russian.par.gz\n",
            "Connecting to www.cis.uni-muenchen.de (www.cis.uni-muenchen.de)|129.187.148.72|:443... connected.\n",
            "HTTP request sent, awaiting response... 200 OK\n",
            "Length: 115748255 (110M) [application/x-gzip]\n",
            "Saving to: ‘russian.par.gz.2’\n",
            "\n",
            "russian.par.gz.2    100%[===================>] 110.39M  19.8MB/s    in 6.6s    \n",
            "\n",
            "2019-06-09 18:48:19 (16.7 MB/s) - ‘russian.par.gz.2’ saved [115748255/115748255]\n",
            "\n"
          ],
          "name": "stdout"
        }
      ]
    },
    {
      "cell_type": "markdown",
      "metadata": {
        "colab_type": "text",
        "id": "zUTvm68R9Qz8"
      },
      "source": [
        "Устанавливаем."
      ]
    },
    {
      "cell_type": "code",
      "metadata": {
        "colab_type": "code",
        "id": "Y_Zl4nv050G0",
        "outputId": "fb059eba-0e1c-4e23-932e-2107d07e6a91",
        "colab": {
          "base_uri": "https://localhost:8080/",
          "height": 221
        }
      },
      "source": [
        "!sh install-tagger.sh"
      ],
      "execution_count": 26,
      "outputs": [
        {
          "output_type": "stream",
          "text": [
            "mkdir: cannot create directory ‘cmd’: File exists\n",
            "mkdir: cannot create directory ‘lib’: File exists\n",
            "mkdir: cannot create directory ‘bin’: File exists\n",
            "mkdir: cannot create directory ‘doc’: File exists\n",
            "\n",
            "TreeTagger version for PC-Linux installed.\n",
            "Tagging scripts installed.\n",
            "Russian parameter file installed.\n",
            "Path variables modified in tagging scripts.\n",
            "\n",
            "You might want to add /content/cmd and /content/bin to the PATH variable so that you do not need to specify the full path to run the tagging scripts.\n",
            "\n"
          ],
          "name": "stdout"
        }
      ]
    },
    {
      "cell_type": "code",
      "metadata": {
        "colab_type": "code",
        "id": "M0V-1lxg50NF",
        "outputId": "44a12e67-1d0e-4a30-919b-c1872dfaec66",
        "colab": {
          "base_uri": "https://localhost:8080/",
          "height": 204
        }
      },
      "source": [
        "!wget http://opencorpora.org/files/export/annot/annot.opcorpora.no_ambig_strict.xml.zip"
      ],
      "execution_count": 27,
      "outputs": [
        {
          "output_type": "stream",
          "text": [
            "--2019-06-09 18:48:29--  http://opencorpora.org/files/export/annot/annot.opcorpora.no_ambig_strict.xml.zip\n",
            "Resolving opencorpora.org (opencorpora.org)... 148.251.2.141\n",
            "Connecting to opencorpora.org (opencorpora.org)|148.251.2.141|:80... connected.\n",
            "HTTP request sent, awaiting response... 200 OK\n",
            "Length: 2194522 (2.1M) [application/zip]\n",
            "Saving to: ‘annot.opcorpora.no_ambig_strict.xml.zip.2’\n",
            "\n",
            "annot.opcorpora.no_ 100%[===================>]   2.09M  2.02MB/s    in 1.0s    \n",
            "\n",
            "2019-06-09 18:48:30 (2.02 MB/s) - ‘annot.opcorpora.no_ambig_strict.xml.zip.2’ saved [2194522/2194522]\n",
            "\n"
          ],
          "name": "stdout"
        }
      ]
    },
    {
      "cell_type": "code",
      "metadata": {
        "colab_type": "code",
        "id": "JHLr7nmv-F3c",
        "outputId": "80f68a59-8a44-412f-8fe2-0648a6816194",
        "colab": {
          "base_uri": "https://localhost:8080/",
          "height": 68
        }
      },
      "source": [
        "!unzip annot.opcorpora.no_ambig_strict.xml.zip"
      ],
      "execution_count": 28,
      "outputs": [
        {
          "output_type": "stream",
          "text": [
            "Archive:  annot.opcorpora.no_ambig_strict.xml.zip\n",
            "replace annot.opcorpora.no_ambig_strict.xml? [y]es, [n]o, [A]ll, [N]one, [r]ename: y\n",
            "  inflating: annot.opcorpora.no_ambig_strict.xml  \n"
          ],
          "name": "stdout"
        }
      ]
    },
    {
      "cell_type": "code",
      "metadata": {
        "colab_type": "code",
        "id": "dh8OpwE5-F6h",
        "colab": {}
      },
      "source": [
        "from lxml import etree\n",
        "from collections import defaultdict"
      ],
      "execution_count": 0,
      "outputs": []
    },
    {
      "cell_type": "code",
      "metadata": {
        "colab_type": "code",
        "id": "GCuVu_w9-bC2",
        "colab": {}
      },
      "source": [
        "open_corpora = etree.fromstring(open('annot.opcorpora.no_ambig_strict.xml', 'rb').read())"
      ],
      "execution_count": 0,
      "outputs": []
    },
    {
      "cell_type": "markdown",
      "metadata": {
        "colab_type": "text",
        "id": "KAi-Sq0A9num"
      },
      "source": [
        "Формат файлов делаем по инструкции."
      ]
    },
    {
      "cell_type": "code",
      "metadata": {
        "colab_type": "code",
        "id": "PWp7bYeD-bEg",
        "colab": {}
      },
      "source": [
        "corpus = open('corpus_train.txt', 'w')\n",
        "f1 = open('x.txt','w')\n",
        "f2 = open('y.txt','w')\n",
        "vocab = defaultdict(set)\n",
        "tags = set()\n",
        "\n",
        "for sentence in open_corpora.xpath('//tokens'):\n",
        "    length = len(sentence.xpath('token'))\n",
        "    ended = False\n",
        "    for i,token in enumerate(sentence.xpath('token')):\n",
        "        word = token.xpath('@text')\n",
        "        gram_info = token.xpath('tfr/v/l/g/@v')\n",
        "        \n",
        "        if (i+1)==length and gram_info[0] == 'PNCT':\n",
        "            gram_info = ['SENT']\n",
        "            ended = True\n",
        "        \n",
        "        s = word[0] + '\\t' + ','.join(gram_info) + '\\n'    \n",
        "        corpus.write(s)\n",
        "        f1.write(word[0]+'\\n')\n",
        "        f2.write(','.join(gram_info) + '\\n')\n",
        "        lemma = token.xpath('tfr/v/l/@t')[0]\n",
        "        vocab[word[0].lower()].add((','.join(gram_info), lemma.lower()))\n",
        "        tags.add(','.join(gram_info))\n",
        "    \n",
        "    if not ended:\n",
        "        corpus.write('.\\tSENT\\n')\n",
        "        f1.write('.\\n')\n",
        "        f2.write('SENT\\n')\n",
        "\n",
        "        "
      ],
      "execution_count": 0,
      "outputs": []
    },
    {
      "cell_type": "markdown",
      "metadata": {
        "colab_type": "text",
        "id": "Ow7I0AkC9rsa"
      },
      "source": [
        "Словарь создаем по инструкции."
      ]
    },
    {
      "cell_type": "code",
      "metadata": {
        "colab_type": "code",
        "id": "2ffrmMswF7h-",
        "colab": {}
      },
      "source": [
        "f = open('lexicon.txt', 'w')\n",
        "\n",
        "for word in vocab:\n",
        "    f.write(word + '\\t')\n",
        "    f.write('\\t'.join([' '.join(pair) for pair in vocab[word]]))\n",
        "    f.write('\\n')\n",
        "# f.write('SENT\\tSENT .')\n",
        "f.close()"
      ],
      "execution_count": 0,
      "outputs": []
    },
    {
      "cell_type": "markdown",
      "metadata": {
        "colab_type": "text",
        "id": "IoUI-i1A9yS1"
      },
      "source": [
        "Словарь для UNK создаем по инструкции."
      ]
    },
    {
      "cell_type": "code",
      "metadata": {
        "colab_type": "code",
        "id": "d1MbTCEKG4gj",
        "colab": {}
      },
      "source": [
        "f = open('open_class.txt', 'w')\n",
        "\n",
        "f.write('\\n'.join([tag for tag in tags if 'NOUN' in tag or 'VERB' in tag or 'ADJF' in tag]))\n",
        "f.close()"
      ],
      "execution_count": 0,
      "outputs": []
    },
    {
      "cell_type": "code",
      "metadata": {
        "id": "6yLANFS4p7KH",
        "colab_type": "code",
        "outputId": "85ce8871-2cf6-4398-9523-4b4446ebcb98",
        "colab": {
          "base_uri": "https://localhost:8080/",
          "height": 187
        }
      },
      "source": [
        "!head corpus_train.txt"
      ],
      "execution_count": 50,
      "outputs": [
        {
          "output_type": "stream",
          "text": [
            "«\tPNCT\n",
            "Школа\tNOUN,inan,femn,sing,nomn\n",
            "злословия\tNOUN,inan,neut,sing,gent\n",
            "»\tPNCT\n",
            "учит\tVERB,impf,tran,sing,3per,pres,indc\n",
            "прикусить\tINFN,perf,tran\n",
            "язык\tNOUN,inan,masc,sing,accs\n",
            ".\tSENT\n",
            "Сохранится\tVERB,perf,intr,sing,3per,futr,indc\n",
            "ли\tPRCL\n"
          ],
          "name": "stdout"
        }
      ]
    },
    {
      "cell_type": "markdown",
      "metadata": {
        "id": "Xby-OK1fV9BH",
        "colab_type": "text"
      },
      "source": [
        "Разделим выборку на несколько групп для обучения и тестирования."
      ]
    },
    {
      "cell_type": "code",
      "metadata": {
        "id": "gjbuaCuB0Nki",
        "colab_type": "code",
        "outputId": "d47ad66d-0158-45ec-8a59-048d5fcf4c88",
        "colab": {
          "base_uri": "https://localhost:8080/",
          "height": 34
        }
      },
      "source": [
        "k=0\n",
        "new_m = []\n",
        "f = open('corpus_train.txt','r')\n",
        "for i in f.readlines():\n",
        "  new_m.append(i)\n",
        "  k+=1\n",
        "print(k)"
      ],
      "execution_count": 51,
      "outputs": [
        {
          "output_type": "stream",
          "text": [
            "71547\n"
          ],
          "name": "stdout"
        }
      ]
    },
    {
      "cell_type": "code",
      "metadata": {
        "id": "YjpJEcWlqaRG",
        "colab_type": "code",
        "colab": {}
      },
      "source": [
        "words = []\n",
        "for i in range(len(new_m)):\n",
        "  #print(new_m[i])\n",
        "  s = new_m[i].split('\\t')[0]\n",
        "  words.append(s)"
      ],
      "execution_count": 0,
      "outputs": []
    },
    {
      "cell_type": "code",
      "metadata": {
        "id": "zF4JysXVsfTk",
        "colab_type": "code",
        "colab": {}
      },
      "source": [
        "f = open('all_words.txt','w')\n",
        "for i in words:\n",
        "  f.write(i+'\\n')\n",
        "f.close()"
      ],
      "execution_count": 0,
      "outputs": []
    },
    {
      "cell_type": "code",
      "metadata": {
        "id": "bgnBe2yez7lc",
        "colab_type": "code",
        "colab": {}
      },
      "source": [
        "Xind = list(range(k))"
      ],
      "execution_count": 0,
      "outputs": []
    },
    {
      "cell_type": "code",
      "metadata": {
        "id": "iR2-2a-M0nek",
        "colab_type": "code",
        "outputId": "2365327c-d3f0-49a7-c3c9-1ab23d6ce33e",
        "colab": {
          "base_uri": "https://localhost:8080/",
          "height": 102
        }
      },
      "source": [
        "ind = []\n",
        "from sklearn.model_selection import KFold, cross_val_score\n",
        "k_fold = KFold(n_splits=5)\n",
        "for train_indices, test_indices in k_fold.split(Xind):\n",
        "  ind.append([train_indices, test_indices])\n",
        "  print('Train: ', train_indices, 'Test: ', test_indices)"
      ],
      "execution_count": 53,
      "outputs": [
        {
          "output_type": "stream",
          "text": [
            "Train:  [14310 14311 14312 ... 71544 71545 71546] Test:  [    0     1     2 ... 14307 14308 14309]\n",
            "Train:  [    0     1     2 ... 71544 71545 71546] Test:  [14310 14311 14312 ... 28617 28618 28619]\n",
            "Train:  [    0     1     2 ... 71544 71545 71546] Test:  [28620 28621 28622 ... 42926 42927 42928]\n",
            "Train:  [    0     1     2 ... 71544 71545 71546] Test:  [42929 42930 42931 ... 57235 57236 57237]\n",
            "Train:  [    0     1     2 ... 57235 57236 57237] Test:  [57238 57239 57240 ... 71544 71545 71546]\n"
          ],
          "name": "stdout"
        }
      ]
    },
    {
      "cell_type": "markdown",
      "metadata": {
        "id": "W5YlaLJR4GH1",
        "colab_type": "text"
      },
      "source": [
        "Создадим массив строк для выборок каждого фолда."
      ]
    },
    {
      "cell_type": "code",
      "metadata": {
        "id": "iFAEj0yH1_dt",
        "colab_type": "code",
        "colab": {}
      },
      "source": [
        "nm = []\n",
        "for i in range(len(ind)):\n",
        "  mas1 = []\n",
        "  for j in range(len(ind[i])):\n",
        "    mas0 = []#массив строк\n",
        "    for q in range(len(ind[i][j])):\n",
        "      s = new_m[ind[i][j][q]]\n",
        "      mas0.append(s)\n",
        "    mas1.append(mas0)\n",
        "  nm.append(mas1)"
      ],
      "execution_count": 0,
      "outputs": []
    },
    {
      "cell_type": "code",
      "metadata": {
        "id": "wEpMYlVd_OfM",
        "colab_type": "code",
        "colab": {}
      },
      "source": [
        "nm_2 = []\n",
        "for i in range(len(ind)):\n",
        "  mas1 = []\n",
        "  for j in range(len(ind[i])):\n",
        "    mas0 = []#массив строк\n",
        "    for q in range(len(ind[i][j])):\n",
        "      s = words[ind[i][j][q]]\n",
        "      mas0.append(s)\n",
        "    mas1.append(mas0)\n",
        "  nm_2.append(mas1)"
      ],
      "execution_count": 0,
      "outputs": []
    },
    {
      "cell_type": "markdown",
      "metadata": {
        "id": "D40tJVpX7cUd",
        "colab_type": "text"
      },
      "source": [
        "Теперь запишем всё в разные файлы. Первая группа - обучающие выборки, вторая - тестовые файлы(слово+теги), третья - тестовые файлы(только слова)."
      ]
    },
    {
      "cell_type": "code",
      "metadata": {
        "id": "dZHGvuX-4PB0",
        "colab_type": "code",
        "colab": {}
      },
      "source": [
        "for i in range(len(nm)):\n",
        "  name = 'train-'+str(i)+'.txt'\n",
        "  f = open(name, 'w')\n",
        "  for j in range(len(nm[i][0])):\n",
        "    f.write(nm[i][0][j])\n",
        "f.close()"
      ],
      "execution_count": 0,
      "outputs": []
    },
    {
      "cell_type": "code",
      "metadata": {
        "id": "I6qCrctJ7JaN",
        "colab_type": "code",
        "colab": {}
      },
      "source": [
        "for i in range(len(nm)):\n",
        "  name = 'test-'+str(i)+'.txt'\n",
        "  f = open(name, 'w')\n",
        "  for j in range(len(nm[i][1])):\n",
        "    f.write(nm[i][1][j])\n",
        "f.close()"
      ],
      "execution_count": 0,
      "outputs": []
    },
    {
      "cell_type": "code",
      "metadata": {
        "id": "1G2ljgPE_bP2",
        "colab_type": "code",
        "colab": {}
      },
      "source": [
        "for i in range(len(nm_2)):\n",
        "  name = 'test2-'+str(i)+'.txt'\n",
        "  f = open(name, 'w')\n",
        "  for j in range(len(nm_2[i][1])):\n",
        "    f.write(nm_2[i][1][j]+'\\n')\n",
        "f.close()"
      ],
      "execution_count": 0,
      "outputs": []
    },
    {
      "cell_type": "markdown",
      "metadata": {
        "id": "peYPT_FnDBtY",
        "colab_type": "text"
      },
      "source": [
        "Начнем обучать модель."
      ]
    },
    {
      "cell_type": "markdown",
      "metadata": {
        "id": "wniYIFN4DHF7",
        "colab_type": "text"
      },
      "source": [
        "1 фолд"
      ]
    },
    {
      "cell_type": "code",
      "metadata": {
        "id": "GWtedXae7w0K",
        "colab_type": "code",
        "outputId": "09b05218-3fbf-4f3d-a0fb-14bd6eef15e6",
        "colab": {
          "base_uri": "https://localhost:8080/",
          "height": 425
        }
      },
      "source": [
        "!./bin/train-tree-tagger lexicon.txt open_class.txt train-0.txt model_oc"
      ],
      "execution_count": 75,
      "outputs": [
        {
          "output_type": "stream",
          "text": [
            "\n",
            "train-tree-tagger -cl 2 -dtg 0.50 -sw 1.00 -ecw 0.15 -atg 1.20 lexicon.txt open_class.txt train-0.txt model_oc\n",
            "\n",
            "\treading the lexicon ...\n",
            "\t\treading the tagset ...\n",
            "\t\treading the lemmas ...\n",
            "\t\treading the entries ...\n",
            "\t\tsorting the lexicon ...\n",
            "\t\treading the open class tags ...\n",
            "\tcalculating tag frequencies ...\n",
            "\r1000\r2000\r3000\r4000\r5000\r6000\r7000\r8000\r9000\r10000\r11000\r12000\r13000\r14000\r15000\r16000\r17000\r18000\r19000\r20000\r21000\r22000\r23000\r24000\r25000\r26000\r27000\r28000\r29000\r30000\r31000\r32000\r33000\r34000\r35000\r36000\r37000\r38000\r39000\r40000\r41000\r42000\r43000\r44000\r45000\r46000\tmaking affix tree ...\n",
            "prefix lexicon: 807 nodes\n",
            "suffix lexicon: 1800 nodes\n",
            "\treading classes ...\n",
            "\tmaking ngram table ...\n",
            "\r1000\t774\r2000\t1626\r3000\t2423\r4000\t3146\r5000\t3871\r6000\t4614\r7000\t5364\r8000\t6094\r9000\t6725\r10000\t7401\r11000\t8055\r12000\t8724\r13000\t9362\r14000\t9991\r15000\t10627\r16000\t11220\r17000\t11773\r18000\t12359\r19000\t12943\r20000\t13407\r21000\t13979\r22000\t14584\r23000\t15103\r24000\t15536\r25000\t15968\r26000\t16429\r27000\t16865\r28000\t17312\r29000\t17796\r30000\t18062\r31000\t18344\r32000\t18723\r33000\t19127\r34000\t19553\r35000\t19966\r36000\t20392\r37000\t20844\r38000\t21257\r39000\t21669\r40000\t22033\r41000\t22320\r42000\t22658\r43000\t23072\r44000\t23483\r45000\t23854\r46000\t24181\r47000\t24520\r48000\t24919\r49000\t25391\r50000\t25809\r51000\t26207\r52000\t26622\r53000\t26991\r54000\t27269\r55000\t27603\r56000\t27959\r57000\t28155\r57237\t28210\n",
            "finished.\n",
            "\tmaking decision tree ...\n",
            "88\tsaving parameters ...\n",
            "\n",
            "Number of nodes: 89\n",
            "Max. path length: 16\n",
            "\n",
            "done.\n"
          ],
          "name": "stdout"
        }
      ]
    },
    {
      "cell_type": "code",
      "metadata": {
        "id": "w-LZN3a0_-w7",
        "colab_type": "code",
        "outputId": "24a0dcb6-4aa5-4c7c-8524-8e926a0aad2a",
        "colab": {
          "base_uri": "https://localhost:8080/",
          "height": 68
        }
      },
      "source": [
        "!./bin/tree-tagger model_oc test2-0.txt output-0.txt"
      ],
      "execution_count": 76,
      "outputs": [
        {
          "output_type": "stream",
          "text": [
            "\treading parameters ...\n",
            "\ttagging ...\n",
            "\r1000\r2000\r3000\r4000\r5000\r6000\r7000\r8000\r9000\r10000\r11000\r12000\r13000\r14000\t finished.\n"
          ],
          "name": "stdout"
        }
      ]
    },
    {
      "cell_type": "markdown",
      "metadata": {
        "id": "vb1DIcVbDLNF",
        "colab_type": "text"
      },
      "source": [
        "2 фолд"
      ]
    },
    {
      "cell_type": "code",
      "metadata": {
        "id": "klWuhSELAXx0",
        "colab_type": "code",
        "outputId": "f975a500-02de-4591-9cb9-f391627b3541",
        "colab": {
          "base_uri": "https://localhost:8080/",
          "height": 425
        }
      },
      "source": [
        "!./bin/train-tree-tagger lexicon.txt open_class.txt train-1.txt model_oc"
      ],
      "execution_count": 77,
      "outputs": [
        {
          "output_type": "stream",
          "text": [
            "\n",
            "train-tree-tagger -cl 2 -dtg 0.50 -sw 1.00 -ecw 0.15 -atg 1.20 lexicon.txt open_class.txt train-1.txt model_oc\n",
            "\n",
            "\treading the lexicon ...\n",
            "\t\treading the tagset ...\n",
            "\t\treading the lemmas ...\n",
            "\t\treading the entries ...\n",
            "\t\tsorting the lexicon ...\n",
            "\t\treading the open class tags ...\n",
            "\tcalculating tag frequencies ...\n",
            "\r1000\r2000\r3000\r4000\r5000\r6000\r7000\r8000\r9000\r10000\r11000\r12000\r13000\r14000\r15000\r16000\r17000\r18000\r19000\r20000\r21000\r22000\r23000\r24000\r25000\r26000\r27000\r28000\r29000\r30000\r31000\r32000\r33000\r34000\r35000\r36000\r37000\r38000\r39000\r40000\r41000\r42000\r43000\r44000\r45000\r46000\tmaking affix tree ...\n",
            "prefix lexicon: 807 nodes\n",
            "suffix lexicon: 1789 nodes\n",
            "\treading classes ...\n",
            "\tmaking ngram table ...\n",
            "\r1000\t943\r2000\t1734\r3000\t2524\r4000\t3306\r5000\t3893\r6000\t4601\r7000\t5248\r8000\t5815\r9000\t6497\r10000\t7176\r11000\t7832\r12000\t8481\r13000\t9117\r14000\t9726\r15000\t10367\r16000\t10980\r17000\t11552\r18000\t12150\r19000\t12721\r20000\t13179\r21000\t13760\r22000\t14350\r23000\t14876\r24000\t15312\r25000\t15750\r26000\t16210\r27000\t16620\r28000\t17058\r29000\t17536\r30000\t17800\r31000\t18078\r32000\t18459\r33000\t18860\r34000\t19301\r35000\t19727\r36000\t20144\r37000\t20592\r38000\t21014\r39000\t21411\r40000\t21775\r41000\t22056\r42000\t22400\r43000\t22807\r44000\t23232\r45000\t23602\r46000\t23916\r47000\t24244\r48000\t24642\r49000\t25118\r50000\t25539\r51000\t25946\r52000\t26376\r53000\t26747\r54000\t27024\r55000\t27370\r56000\t27725\r57000\t27911\r57237\t27963\n",
            "finished.\n",
            "\tmaking decision tree ...\n",
            "96\tsaving parameters ...\n",
            "\n",
            "Number of nodes: 97\n",
            "Max. path length: 16\n",
            "\n",
            "done.\n"
          ],
          "name": "stdout"
        }
      ]
    },
    {
      "cell_type": "code",
      "metadata": {
        "id": "zNjkYCLSAg7e",
        "colab_type": "code",
        "outputId": "a3fa4192-c9d0-43f2-80e4-bf8c7b20015c",
        "colab": {
          "base_uri": "https://localhost:8080/",
          "height": 68
        }
      },
      "source": [
        "!./bin/tree-tagger model_oc test2-1.txt output-1.txt"
      ],
      "execution_count": 78,
      "outputs": [
        {
          "output_type": "stream",
          "text": [
            "\treading parameters ...\n",
            "\ttagging ...\n",
            "\r1000\r2000\r3000\r4000\r5000\r6000\r7000\r8000\r9000\r10000\r11000\r12000\r13000\r14000\t finished.\n"
          ],
          "name": "stdout"
        }
      ]
    },
    {
      "cell_type": "markdown",
      "metadata": {
        "id": "4Hpod43XDOWo",
        "colab_type": "text"
      },
      "source": [
        "3 фолд"
      ]
    },
    {
      "cell_type": "code",
      "metadata": {
        "id": "W4pOUQFiBLPp",
        "colab_type": "code",
        "outputId": "b3669f51-494b-4240-e321-46cc498dc6d3",
        "colab": {
          "base_uri": "https://localhost:8080/",
          "height": 425
        }
      },
      "source": [
        "!./bin/train-tree-tagger lexicon.txt open_class.txt train-2.txt model_oc"
      ],
      "execution_count": 79,
      "outputs": [
        {
          "output_type": "stream",
          "text": [
            "\n",
            "train-tree-tagger -cl 2 -dtg 0.50 -sw 1.00 -ecw 0.15 -atg 1.20 lexicon.txt open_class.txt train-2.txt model_oc\n",
            "\n",
            "\treading the lexicon ...\n",
            "\t\treading the tagset ...\n",
            "\t\treading the lemmas ...\n",
            "\t\treading the entries ...\n",
            "\t\tsorting the lexicon ...\n",
            "\t\treading the open class tags ...\n",
            "\tcalculating tag frequencies ...\n",
            "\r1000\r2000\r3000\r4000\r5000\r6000\r7000\r8000\r9000\r10000\r11000\r12000\r13000\r14000\r15000\r16000\r17000\r18000\r19000\r20000\r21000\r22000\r23000\r24000\r25000\r26000\r27000\r28000\r29000\r30000\r31000\r32000\r33000\r34000\r35000\r36000\r37000\r38000\r39000\r40000\r41000\r42000\r43000\r44000\r45000\r46000\tmaking affix tree ...\n",
            "prefix lexicon: 807 nodes\n",
            "suffix lexicon: 1794 nodes\n",
            "\treading classes ...\n",
            "\tmaking ngram table ...\n",
            "\r1000\t943\r2000\t1734\r3000\t2524\r4000\t3306\r5000\t3893\r6000\t4601\r7000\t5248\r8000\t5815\r9000\t6497\r10000\t7176\r11000\t7832\r12000\t8481\r13000\t9117\r14000\t9726\r15000\t10326\r16000\t10838\r17000\t11403\r18000\t12028\r19000\t12516\r20000\t13106\r21000\t13706\r22000\t14293\r23000\t14802\r24000\t15353\r25000\t15898\r26000\t16444\r27000\t17023\r28000\t17567\r29000\t18055\r30000\t18330\r31000\t18605\r32000\t18984\r33000\t19391\r34000\t19817\r35000\t20240\r36000\t20671\r37000\t21107\r38000\t21530\r39000\t21937\r40000\t22303\r41000\t22588\r42000\t22930\r43000\t23333\r44000\t23756\r45000\t24130\r46000\t24462\r47000\t24785\r48000\t25185\r49000\t25664\r50000\t26082\r51000\t26482\r52000\t26902\r53000\t27274\r54000\t27557\r55000\t27896\r56000\t28242\r57000\t28438\r57238\t28490\n",
            "finished.\n",
            "\tmaking decision tree ...\n",
            "90\tsaving parameters ...\n",
            "\n",
            "Number of nodes: 91\n",
            "Max. path length: 16\n",
            "\n",
            "done.\n"
          ],
          "name": "stdout"
        }
      ]
    },
    {
      "cell_type": "code",
      "metadata": {
        "id": "RdRGb5i5BUr7",
        "colab_type": "code",
        "outputId": "6db1b5a1-3703-43ea-c855-1e1266687848",
        "colab": {
          "base_uri": "https://localhost:8080/",
          "height": 68
        }
      },
      "source": [
        "!./bin/tree-tagger model_oc test2-2.txt output-2.txt"
      ],
      "execution_count": 80,
      "outputs": [
        {
          "output_type": "stream",
          "text": [
            "\treading parameters ...\n",
            "\ttagging ...\n",
            "\r1000\r2000\r3000\r4000\r5000\r6000\r7000\r8000\r9000\r10000\r11000\r12000\r13000\r14000\t finished.\n"
          ],
          "name": "stdout"
        }
      ]
    },
    {
      "cell_type": "markdown",
      "metadata": {
        "id": "FGI75BiqDUgj",
        "colab_type": "text"
      },
      "source": [
        "4 фолд"
      ]
    },
    {
      "cell_type": "code",
      "metadata": {
        "id": "YALcBww7Bowd",
        "colab_type": "code",
        "outputId": "3cee6c02-ec89-4c9f-c72c-116b212b5660",
        "colab": {
          "base_uri": "https://localhost:8080/",
          "height": 425
        }
      },
      "source": [
        "!./bin/train-tree-tagger lexicon.txt open_class.txt train-3.txt model_oc"
      ],
      "execution_count": 81,
      "outputs": [
        {
          "output_type": "stream",
          "text": [
            "\n",
            "train-tree-tagger -cl 2 -dtg 0.50 -sw 1.00 -ecw 0.15 -atg 1.20 lexicon.txt open_class.txt train-3.txt model_oc\n",
            "\n",
            "\treading the lexicon ...\n",
            "\t\treading the tagset ...\n",
            "\t\treading the lemmas ...\n",
            "\t\treading the entries ...\n",
            "\t\tsorting the lexicon ...\n",
            "\t\treading the open class tags ...\n",
            "\tcalculating tag frequencies ...\n",
            "\r1000\r2000\r3000\r4000\r5000\r6000\r7000\r8000\r9000\r10000\r11000\r12000\r13000\r14000\r15000\r16000\r17000\r18000\r19000\r20000\r21000\r22000\r23000\r24000\r25000\r26000\r27000\r28000\r29000\r30000\r31000\r32000\r33000\r34000\r35000\r36000\r37000\r38000\r39000\r40000\r41000\r42000\r43000\r44000\r45000\r46000\tmaking affix tree ...\n",
            "prefix lexicon: 807 nodes\n",
            "suffix lexicon: 1789 nodes\n",
            "\treading classes ...\n",
            "\tmaking ngram table ...\n",
            "\r1000\t943\r2000\t1734\r3000\t2524\r4000\t3306\r5000\t3893\r6000\t4601\r7000\t5248\r8000\t5815\r9000\t6497\r10000\t7176\r11000\t7832\r12000\t8481\r13000\t9117\r14000\t9726\r15000\t10326\r16000\t10838\r17000\t11403\r18000\t12028\r19000\t12516\r20000\t13106\r21000\t13706\r22000\t14293\r23000\t14802\r24000\t15353\r25000\t15898\r26000\t16444\r27000\t17023\r28000\t17567\r29000\t18099\r30000\t18631\r31000\t19119\r32000\t19623\r33000\t20143\r34000\t20530\r35000\t21043\r36000\t21568\r37000\t22020\r38000\t22417\r39000\t22840\r40000\t23175\r41000\t23611\r42000\t23938\r43000\t24407\r44000\t24829\r45000\t25204\r46000\t25530\r47000\t25854\r48000\t26237\r49000\t26708\r50000\t27132\r51000\t27559\r52000\t27978\r53000\t28338\r54000\t28614\r55000\t28941\r56000\t29290\r57000\t29486\r57238\t29543\n",
            "finished.\n",
            "\tmaking decision tree ...\n",
            "72\tsaving parameters ...\n",
            "\n",
            "Number of nodes: 73\n",
            "Max. path length: 13\n",
            "\n",
            "done.\n"
          ],
          "name": "stdout"
        }
      ]
    },
    {
      "cell_type": "code",
      "metadata": {
        "id": "OZ4G1bmxB0fC",
        "colab_type": "code",
        "outputId": "b626f548-35a3-4ad6-9b62-d0495492ec88",
        "colab": {
          "base_uri": "https://localhost:8080/",
          "height": 68
        }
      },
      "source": [
        "!./bin/tree-tagger model_oc test2-3.txt output-3.txt"
      ],
      "execution_count": 82,
      "outputs": [
        {
          "output_type": "stream",
          "text": [
            "\treading parameters ...\n",
            "\ttagging ...\n",
            "\r1000\r2000\r3000\r4000\r5000\r6000\r7000\r8000\r9000\r10000\r11000\r12000\r13000\r14000\t finished.\n"
          ],
          "name": "stdout"
        }
      ]
    },
    {
      "cell_type": "markdown",
      "metadata": {
        "id": "v_d6HsWQxon4",
        "colab_type": "text"
      },
      "source": [
        "После этого фолда улучшилось определение глаголов."
      ]
    },
    {
      "cell_type": "markdown",
      "metadata": {
        "id": "fjyPFgddDX2E",
        "colab_type": "text"
      },
      "source": [
        "5 фолд"
      ]
    },
    {
      "cell_type": "code",
      "metadata": {
        "id": "pP1ka-dlCMej",
        "colab_type": "code",
        "outputId": "0e73c959-81fb-4424-d279-041714140ce0",
        "colab": {
          "base_uri": "https://localhost:8080/",
          "height": 425
        }
      },
      "source": [
        "!./bin/train-tree-tagger lexicon.txt open_class.txt train-4.txt model_oc"
      ],
      "execution_count": 83,
      "outputs": [
        {
          "output_type": "stream",
          "text": [
            "\n",
            "train-tree-tagger -cl 2 -dtg 0.50 -sw 1.00 -ecw 0.15 -atg 1.20 lexicon.txt open_class.txt train-4.txt model_oc\n",
            "\n",
            "\treading the lexicon ...\n",
            "\t\treading the tagset ...\n",
            "\t\treading the lemmas ...\n",
            "\t\treading the entries ...\n",
            "\t\tsorting the lexicon ...\n",
            "\t\treading the open class tags ...\n",
            "\tcalculating tag frequencies ...\n",
            "\r1000\r2000\r3000\r4000\r5000\r6000\r7000\r8000\r9000\r10000\r11000\r12000\r13000\r14000\r15000\r16000\r17000\r18000\r19000\r20000\r21000\r22000\r23000\r24000\r25000\r26000\r27000\r28000\r29000\r30000\r31000\r32000\r33000\r34000\r35000\r36000\r37000\r38000\r39000\r40000\r41000\r42000\r43000\r44000\r45000\r46000\tmaking affix tree ...\n",
            "prefix lexicon: 807 nodes\n",
            "suffix lexicon: 1803 nodes\n",
            "\treading classes ...\n",
            "\tmaking ngram table ...\n",
            "\r1000\t943\r2000\t1734\r3000\t2524\r4000\t3306\r5000\t3893\r6000\t4601\r7000\t5248\r8000\t5815\r9000\t6497\r10000\t7176\r11000\t7832\r12000\t8481\r13000\t9117\r14000\t9726\r15000\t10326\r16000\t10838\r17000\t11403\r18000\t12028\r19000\t12516\r20000\t13106\r21000\t13706\r22000\t14293\r23000\t14802\r24000\t15353\r25000\t15898\r26000\t16444\r27000\t17023\r28000\t17567\r29000\t18099\r30000\t18631\r31000\t19119\r32000\t19623\r33000\t20143\r34000\t20530\r35000\t21043\r36000\t21568\r37000\t22020\r38000\t22417\r39000\t22840\r40000\t23175\r41000\t23611\r42000\t23938\r43000\t24411\r44000\t24714\r45000\t24911\r46000\t25250\r47000\t25579\r48000\t25982\r49000\t26353\r50000\t26782\r51000\t27149\r52000\t27532\r53000\t27930\r54000\t28249\r55000\t28519\r56000\t28795\r57000\t29197\r57238\t29293\n",
            "finished.\n",
            "\tmaking decision tree ...\n",
            "92\tsaving parameters ...\n",
            "\n",
            "Number of nodes: 93\n",
            "Max. path length: 18\n",
            "\n",
            "done.\n"
          ],
          "name": "stdout"
        }
      ]
    },
    {
      "cell_type": "code",
      "metadata": {
        "id": "JAWVBhXdCQ5y",
        "colab_type": "code",
        "outputId": "e1acaf94-3922-477f-b088-229b91e3d350",
        "colab": {
          "base_uri": "https://localhost:8080/",
          "height": 68
        }
      },
      "source": [
        "!./bin/tree-tagger model_oc test2-4.txt output-4.txt"
      ],
      "execution_count": 84,
      "outputs": [
        {
          "output_type": "stream",
          "text": [
            "\treading parameters ...\n",
            "\ttagging ...\n",
            "\r1000\r2000\r3000\r4000\r5000\r6000\r7000\r8000\r9000\r10000\r11000\r12000\r13000\r14000\t finished.\n"
          ],
          "name": "stdout"
        }
      ]
    },
    {
      "cell_type": "code",
      "metadata": {
        "id": "eP7s12TWenGj",
        "colab_type": "code",
        "outputId": "5791e57e-bcb9-4b0d-a66d-375481fa43eb",
        "colab": {
          "base_uri": "https://localhost:8080/",
          "height": 187
        }
      },
      "source": [
        "!head output-4.txt"
      ],
      "execution_count": 85,
      "outputs": [
        {
          "output_type": "stream",
          "text": [
            "PREP\n",
            "NOUN,inan,masc,sing,datv\n",
            "PREP\n",
            "NOUN,inan,femn,sing,accs\n",
            "PNCT\n",
            "SENT\n",
            "VERB,perf,intr,neut,sing,past,indc\n",
            "COMP,Qual\n",
            "SENT\n",
            "PNCT\n"
          ],
          "name": "stdout"
        }
      ]
    },
    {
      "cell_type": "markdown",
      "metadata": {
        "id": "ssB1tTBCfM6_",
        "colab_type": "text"
      },
      "source": [
        "Можно сравнить эти предсказания с реальными данными (ниже). Кажется, все корректно."
      ]
    },
    {
      "cell_type": "code",
      "metadata": {
        "id": "S6nrNUqOeuwI",
        "colab_type": "code",
        "outputId": "e56298a3-ddc7-4559-d6ee-a500e3cdf776",
        "colab": {
          "base_uri": "https://localhost:8080/",
          "height": 187
        }
      },
      "source": [
        "!head test-4.txt"
      ],
      "execution_count": 86,
      "outputs": [
        {
          "output_type": "stream",
          "text": [
            "по\tPREP\n",
            "пакету\tNOUN,inan,masc,sing,datv\n",
            "в\tPREP\n",
            "секунду\tNOUN,inan,femn,sing,accs\n",
            ")\tPNCT\n",
            ".\tSENT\n",
            "стало\tVERB,perf,intr,neut,sing,past,indc\n",
            "веселее\tCOMP,Qual\n",
            ".\tSENT\n",
            "\"\tPNCT\n"
          ],
          "name": "stdout"
        }
      ]
    },
    {
      "cell_type": "code",
      "metadata": {
        "id": "uC1ArPT0Koex",
        "colab_type": "code",
        "outputId": "cd487315-af3c-4584-92c6-da14efcf4ef4",
        "colab": {
          "base_uri": "https://localhost:8080/",
          "height": 68
        }
      },
      "source": [
        "!./bin/tree-tagger model_oc all_words.txt output_all.txt"
      ],
      "execution_count": 91,
      "outputs": [
        {
          "output_type": "stream",
          "text": [
            "\treading parameters ...\n",
            "\ttagging ...\n",
            "71000\t finished.\n"
          ],
          "name": "stdout"
        }
      ]
    },
    {
      "cell_type": "code",
      "metadata": {
        "id": "u7uS2HyIau2d",
        "colab_type": "code",
        "outputId": "9acd81db-bb5f-4e14-c2cd-731af9979f0d",
        "colab": {
          "base_uri": "https://localhost:8080/",
          "height": 187
        }
      },
      "source": [
        "!head output_all.txt"
      ],
      "execution_count": 92,
      "outputs": [
        {
          "output_type": "stream",
          "text": [
            "PNCT\n",
            "NOUN,inan,masc,sing,nomn\n",
            "NOUN,inan,neut,sing,gent\n",
            "PNCT\n",
            "VERB,impf,tran,sing,3per,pres,indc\n",
            "INFN,perf,tran\n",
            "NOUN,inan,masc,sing,accs\n",
            "SENT\n",
            "NOUN,inan,masc,sing,nomn\n",
            "PRCL\n"
          ],
          "name": "stdout"
        }
      ]
    },
    {
      "cell_type": "markdown",
      "metadata": {
        "id": "A31C-VEELqUY",
        "colab_type": "text"
      },
      "source": [
        "Создадим массивы предсказаний, слов, оригинальных теггов для всего корпуса."
      ]
    },
    {
      "cell_type": "code",
      "metadata": {
        "id": "jub1WA97LEgz",
        "colab_type": "code",
        "colab": {}
      },
      "source": [
        "f = open('output_all.txt','r')\n",
        "pred = []\n",
        "for i in f.readlines():\n",
        "  pred.append(i)\n",
        "f.close()"
      ],
      "execution_count": 0,
      "outputs": []
    },
    {
      "cell_type": "code",
      "metadata": {
        "id": "8n1L0vWXRjTt",
        "colab_type": "code",
        "colab": {}
      },
      "source": [
        "f = open('x.txt','r')\n",
        "words = []\n",
        "for i in f.readlines():\n",
        "  words.append(i)\n",
        "f.close()"
      ],
      "execution_count": 0,
      "outputs": []
    },
    {
      "cell_type": "code",
      "metadata": {
        "id": "JRwqqD1IRlJ8",
        "colab_type": "code",
        "colab": {}
      },
      "source": [
        "f = open('y.txt','r')\n",
        "tgs = []\n",
        "for i in f.readlines():\n",
        "  tgs.append(i)\n",
        "f.close()"
      ],
      "execution_count": 0,
      "outputs": []
    },
    {
      "cell_type": "code",
      "metadata": {
        "id": "8ciF2Qu4K5DB",
        "colab_type": "code",
        "colab": {}
      },
      "source": [
        "from collections import Counter\n",
        "import numpy as np\n",
        "import re\n",
        "preds_0 = []\n",
        "mistakes = Counter()\n",
        "\n",
        "for i in range(len(words)):\n",
        "  word_0 = words[i]\n",
        "  real_0 = str(tgs[i]).split(',')[0].split(' ')[0]\n",
        "  real_0 = re.sub('\\n','', real_0)\n",
        "  pre_0 = str(pred[i]).split(',')[0].split(' ')[0]\n",
        "  pre_0 = re.sub('\\n','',pre_0)\n",
        "  p = int(pre_0==real_0)\n",
        "  preds_0.append(p)\n",
        "  if not p:\n",
        "    mistakes.update([(word_0,real_0,pre_0)])"
      ],
      "execution_count": 0,
      "outputs": []
    },
    {
      "cell_type": "code",
      "metadata": {
        "id": "3RLVNlMfXUdY",
        "colab_type": "code",
        "outputId": "db9ea17c-6d80-4b34-8fd3-da27a3e05775",
        "colab": {
          "base_uri": "https://localhost:8080/",
          "height": 34
        }
      },
      "source": [
        "print(np.mean(preds_0), np.std(preds_0))"
      ],
      "execution_count": 100,
      "outputs": [
        {
          "output_type": "stream",
          "text": [
            "0.8980530280794443 0.3025785630820285\n"
          ],
          "name": "stdout"
        }
      ]
    },
    {
      "cell_type": "code",
      "metadata": {
        "id": "pjOhPLgfXYex",
        "colab_type": "code",
        "outputId": "df3f95ae-67e8-4981-9d85-8e6d79b64bb5",
        "colab": {
          "base_uri": "https://localhost:8080/",
          "height": 102
        }
      },
      "source": [
        "mistakes.most_common(5)"
      ],
      "execution_count": 101,
      "outputs": [
        {
          "output_type": "execute_result",
          "data": {
            "text/plain": [
              "[(('В\\n', 'PREP', 'NOUN'), 452),\n",
              " (('.\\n', 'PNCT', 'SENT'), 382),\n",
              " (('Я\\n', 'NPRO', 'NOUN'), 199),\n",
              " ((',\\n', 'SENT', 'PNCT'), 142),\n",
              " (('Не\\n', 'PRCL', 'NOUN'), 130)]"
            ]
          },
          "metadata": {
            "tags": []
          },
          "execution_count": 101
        }
      ]
    },
    {
      "cell_type": "code",
      "metadata": {
        "id": "VWJUzN57fmEZ",
        "colab_type": "code",
        "colab": {}
      },
      "source": [
        "test = open('try_ex.txt', 'w')\n",
        "\n",
        "test.write('\\n'.join('Мальчик хочет яблоко.'.split()))\n",
        "\n",
        "test.close()"
      ],
      "execution_count": 0,
      "outputs": []
    },
    {
      "cell_type": "code",
      "metadata": {
        "id": "EyUdLj9ygAnB",
        "colab_type": "code",
        "outputId": "b01507bc-ffbf-48a9-b3f2-c5fe745c3236",
        "colab": {
          "base_uri": "https://localhost:8080/",
          "height": 68
        }
      },
      "source": [
        "!./bin/tree-tagger model_oc try_ex.txt out_ex.txt"
      ],
      "execution_count": 108,
      "outputs": [
        {
          "output_type": "stream",
          "text": [
            "\treading parameters ...\n",
            "\ttagging ...\n",
            "\t finished.\n"
          ],
          "name": "stdout"
        }
      ]
    },
    {
      "cell_type": "code",
      "metadata": {
        "id": "9vXBq-7tgZn1",
        "colab_type": "code",
        "outputId": "e0ee5c07-09e0-46ed-e516-8eed14acf2e5",
        "colab": {
          "base_uri": "https://localhost:8080/",
          "height": 68
        }
      },
      "source": [
        "!head out_ex.txt"
      ],
      "execution_count": 110,
      "outputs": [
        {
          "output_type": "stream",
          "text": [
            "NOUN,inan,masc,sing,nomn\n",
            "VERB,impf,tran,sing,3per,pres,indc\n",
            "NOUN,inan,neut,plur,ablt\n"
          ],
          "name": "stdout"
        }
      ]
    },
    {
      "cell_type": "markdown",
      "metadata": {
        "id": "QLht3vFLvLcB",
        "colab_type": "text"
      },
      "source": [
        "При анализе примеров было замечено, что TreeTagger часто ошибается с одушевленностью."
      ]
    },
    {
      "cell_type": "markdown",
      "metadata": {
        "id": "Ruh5gzNvXDlk",
        "colab_type": "text"
      },
      "source": [
        "Попробуем оценить точность предсказаний для всех теггов."
      ]
    },
    {
      "cell_type": "code",
      "metadata": {
        "id": "ktn0c0s7VxD6",
        "colab_type": "code",
        "colab": {}
      },
      "source": [
        "import re\n",
        "preds_1 = []\n",
        "mistakes_2 = Counter()\n",
        "\n",
        "for i in range(len(words)):\n",
        "  word = words[i]\n",
        "  real = str(tgs[i]).split(',')\n",
        "  nreal = []\n",
        "  for o in real:\n",
        "    o = o.split(' ')\n",
        "    for j in o:\n",
        "      nreal.append(j)\n",
        "  nreal = str(nreal)\n",
        "  nreal = re.sub('\\n','', nreal)\n",
        "  pre = str(pred[i]).split(',')\n",
        "  npre = []\n",
        "  for w in pre:\n",
        "    w = w.split(' ')\n",
        "    for j in w:\n",
        "      npre.append(j)\n",
        "  npre = str(npre)\n",
        "  npre = re.sub('\\n','', nreal)\n",
        "  p = int(npre==nreal)\n",
        "  preds_1.append(p)\n",
        "  if not p:\n",
        "    mistakes_2.update([(word,nreal,npre)])"
      ],
      "execution_count": 0,
      "outputs": []
    },
    {
      "cell_type": "code",
      "metadata": {
        "id": "srwPs3oVK8dW",
        "colab_type": "code",
        "outputId": "46860da7-936f-492a-ef38-27aeaa6645cc",
        "colab": {
          "base_uri": "https://localhost:8080/",
          "height": 34
        }
      },
      "source": [
        "print(np.mean(preds_1), np.std(preds_1))"
      ],
      "execution_count": 112,
      "outputs": [
        {
          "output_type": "stream",
          "text": [
            "1.0 0.0\n"
          ],
          "name": "stdout"
        }
      ]
    },
    {
      "cell_type": "code",
      "metadata": {
        "id": "NU1q9SliOhKR",
        "colab_type": "code",
        "outputId": "e0fcd741-30d6-4ee6-d574-47cf59f5e611",
        "colab": {
          "base_uri": "https://localhost:8080/",
          "height": 34
        }
      },
      "source": [
        "mistakes_2.most_common(5)"
      ],
      "execution_count": 113,
      "outputs": [
        {
          "output_type": "execute_result",
          "data": {
            "text/plain": [
              "[]"
            ]
          },
          "metadata": {
            "tags": []
          },
          "execution_count": 113
        }
      ]
    },
    {
      "cell_type": "markdown",
      "metadata": {
        "id": "67BfR4aowIKm",
        "colab_type": "text"
      },
      "source": [
        "Такая точность не может быть достигнута. Вероятно, в коде есть ошибка, но мне не удалось её обнаружить."
      ]
    },
    {
      "cell_type": "code",
      "metadata": {
        "id": "nbpdPEliTfAj",
        "colab_type": "code",
        "outputId": "5bf477fc-efa0-407d-ec36-fa5c1503f08f",
        "colab": {
          "base_uri": "https://localhost:8080/",
          "height": 85
        }
      },
      "source": [
        "!pip install pymorphy2"
      ],
      "execution_count": 114,
      "outputs": [
        {
          "output_type": "stream",
          "text": [
            "Requirement already satisfied: pymorphy2 in /usr/local/lib/python3.6/dist-packages (0.8)\n",
            "Requirement already satisfied: docopt>=0.6 in /usr/local/lib/python3.6/dist-packages (from pymorphy2) (0.6.2)\n",
            "Requirement already satisfied: pymorphy2-dicts<3.0,>=2.4 in /usr/local/lib/python3.6/dist-packages (from pymorphy2) (2.4.393442.3710985)\n",
            "Requirement already satisfied: dawg-python>=0.7 in /usr/local/lib/python3.6/dist-packages (from pymorphy2) (0.7.2)\n"
          ],
          "name": "stdout"
        }
      ]
    },
    {
      "cell_type": "code",
      "metadata": {
        "id": "1D8WXAP_t3iz",
        "colab_type": "code",
        "outputId": "802ab697-ca03-4632-e0f9-94e64ce4b844",
        "colab": {
          "base_uri": "https://localhost:8080/",
          "height": 34
        }
      },
      "source": [
        "!pip install -U pymorphy2-dicts-ru"
      ],
      "execution_count": 115,
      "outputs": [
        {
          "output_type": "stream",
          "text": [
            "Requirement already up-to-date: pymorphy2-dicts-ru in /usr/local/lib/python3.6/dist-packages (2.4.404381.4453942)\n"
          ],
          "name": "stdout"
        }
      ]
    },
    {
      "cell_type": "code",
      "metadata": {
        "id": "2MIczIUaxyDk",
        "colab_type": "code",
        "colab": {}
      },
      "source": [
        "import pymorphy2\n",
        "from collections import Counter"
      ],
      "execution_count": 0,
      "outputs": []
    },
    {
      "cell_type": "code",
      "metadata": {
        "id": "beyObR0bQ0Wq",
        "colab_type": "code",
        "colab": {}
      },
      "source": [
        "morph = pymorphy2.MorphAnalyzer()"
      ],
      "execution_count": 0,
      "outputs": []
    },
    {
      "cell_type": "code",
      "metadata": {
        "id": "9_AWi2ihIzA8",
        "colab_type": "code",
        "colab": {}
      },
      "source": [
        "corpus_2 = []\n",
        "\n",
        "\n",
        "for sentence in open_corpora.xpath('//tokens'):\n",
        "    sent_tagged = []\n",
        "    for token in sentence.xpath('token'):\n",
        "        word = token.xpath('@text')\n",
        "        gram_info = token.xpath('tfr/v/l/g/@v')\n",
        "        sent_tagged.append((word[0], gram_info[0]))\n",
        "    \n",
        "    corpus_2.append(sent_tagged)"
      ],
      "execution_count": 0,
      "outputs": []
    },
    {
      "cell_type": "code",
      "metadata": {
        "id": "ZZu0Ag4OJIND",
        "colab_type": "code",
        "outputId": "1ad0d24e-864a-4d2d-a5f8-8dbc54cd9361",
        "colab": {
          "base_uri": "https://localhost:8080/",
          "height": 136
        }
      },
      "source": [
        "corpus_2[0]"
      ],
      "execution_count": 119,
      "outputs": [
        {
          "output_type": "execute_result",
          "data": {
            "text/plain": [
              "[('«', 'PNCT'),\n",
              " ('Школа', 'NOUN'),\n",
              " ('злословия', 'NOUN'),\n",
              " ('»', 'PNCT'),\n",
              " ('учит', 'VERB'),\n",
              " ('прикусить', 'INFN'),\n",
              " ('язык', 'NOUN')]"
            ]
          },
          "metadata": {
            "tags": []
          },
          "execution_count": 119
        }
      ]
    },
    {
      "cell_type": "code",
      "metadata": {
        "id": "HYeN4qRCINwd",
        "colab_type": "code",
        "colab": {}
      },
      "source": [
        "preds_3 = []\n",
        "mistakes = Counter()\n",
        "\n",
        "for sent in corpus_2:\n",
        "  for word, tag in sent:\n",
        "    pred = str(morph.parse(word)[0].tag).split(',')[0].split(' ')[0]\n",
        "    p = int(pred==tag)\n",
        "    preds_3.append(p)\n",
        "    if not p:\n",
        "      mistakes.update([(word, tag, pred)])"
      ],
      "execution_count": 0,
      "outputs": []
    },
    {
      "cell_type": "code",
      "metadata": {
        "id": "8p1NC3X7JBp2",
        "colab_type": "code",
        "outputId": "034b06c7-68b1-490c-ebf2-9a0b5526edaf",
        "colab": {
          "base_uri": "https://localhost:8080/",
          "height": 34
        }
      },
      "source": [
        "print(np.mean(preds_3), np.std(preds_3))"
      ],
      "execution_count": 121,
      "outputs": [
        {
          "output_type": "stream",
          "text": [
            "0.9829597059035536 0.1294214915443063\n"
          ],
          "name": "stdout"
        }
      ]
    },
    {
      "cell_type": "code",
      "metadata": {
        "id": "0iZBFvCcJErj",
        "colab_type": "code",
        "outputId": "6c3f77d5-910c-423d-cba4-082b09d03ca2",
        "colab": {
          "base_uri": "https://localhost:8080/",
          "height": 102
        }
      },
      "source": [
        "mistakes.most_common(5)"
      ],
      "execution_count": 122,
      "outputs": [
        {
          "output_type": "execute_result",
          "data": {
            "text/plain": [
              "[(('также', 'PRCL', 'CONJ'), 90),\n",
              " (('тоже', 'PRCL', 'ADVB'), 37),\n",
              " (('этом', 'ADJF', 'NPRO'), 36),\n",
              " (('Также', 'PRCL', 'CONJ'), 24),\n",
              " (('=', 'SYMB', 'UNKN'), 20)]"
            ]
          },
          "metadata": {
            "tags": []
          },
          "execution_count": 122
        }
      ]
    },
    {
      "cell_type": "markdown",
      "metadata": {
        "id": "VzzG_YeGwnEo",
        "colab_type": "text"
      },
      "source": [
        "Предсказания частей речи у Pymorphy2 несколько лучше, чем у TreeTagger."
      ]
    }
  ]
}